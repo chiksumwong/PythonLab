{
 "cells": [
  {
   "cell_type": "code",
   "execution_count": 67,
   "metadata": {},
   "outputs": [],
   "source": [
    "class Account:\n",
    "    def __init__(self, name: str, number: str, balance: float) -> None:\n",
    "        self.__name = name\n",
    "        self.__number = number\n",
    "        self.__balance = balance\n",
    "        \n",
    "    @property\n",
    "    def name(self) -> str:\n",
    "        return self.__name\n",
    "        \n",
    "    @property\n",
    "    def number(self) -> str:\n",
    "        return self.__number\n",
    "    \n",
    "    @property\n",
    "    def balance(self) -> float:\n",
    "        return self.__balance\n",
    "    \n",
    "    @name.setter\n",
    "    def name(self, name: str):\n",
    "        self.__name = name\n",
    "        \n",
    "    @number.setter\n",
    "    def number(self, number: str):\n",
    "        self.__number = number\n",
    "        \n",
    "    @balance.setter\n",
    "    def balance(self, banlance: float):\n",
    "        self.__balance = balance\n",
    "\n",
    "        \n",
    "    def deposit(self, amount: float):\n",
    "        if amount <= 0:\n",
    "            print('Amount should not be negative')\n",
    "        else:\n",
    "            self.__balance += amount\n",
    "            \n",
    "    def withdraw(self, amount: float):\n",
    "        if amount > self.__balance:\n",
    "            print('Balance is not enought')\n",
    "        else:\n",
    "            self.__balance -= amount\n",
    "    \n",
    "    def __str__(self):\n",
    "        return f\"Account('{self.__name}', '{self.__number}', '{self.__balance}')\""
   ]
  },
  {
   "cell_type": "code",
   "execution_count": 68,
   "metadata": {},
   "outputs": [
    {
     "name": "stdout",
     "output_type": "stream",
     "text": [
      "Account('Justin', '123-4567', '1300')\n"
     ]
    }
   ],
   "source": [
    "acct = Account('Justin', '123-4567', 1000)\n",
    "acct.deposit(500)\n",
    "acct.withdraw(200)\n",
    "\n",
    "print(acct)"
   ]
  },
  {
   "cell_type": "code",
   "execution_count": 69,
   "metadata": {},
   "outputs": [],
   "source": [
    "acct.__balance = 1000000000"
   ]
  },
  {
   "cell_type": "code",
   "execution_count": 70,
   "metadata": {},
   "outputs": [
    {
     "name": "stdout",
     "output_type": "stream",
     "text": [
      "Account('Justin', '123-4567', '1300')\n"
     ]
    }
   ],
   "source": [
    "print(acct)"
   ]
  },
  {
   "cell_type": "code",
   "execution_count": 71,
   "metadata": {},
   "outputs": [
    {
     "name": "stdout",
     "output_type": "stream",
     "text": [
      "Justin\n"
     ]
    }
   ],
   "source": [
    "print(acct._Account__name)"
   ]
  },
  {
   "cell_type": "code",
   "execution_count": 72,
   "metadata": {},
   "outputs": [],
   "source": [
    "acct._Account__balance = 1"
   ]
  },
  {
   "cell_type": "code",
   "execution_count": 73,
   "metadata": {},
   "outputs": [
    {
     "name": "stdout",
     "output_type": "stream",
     "text": [
      "Account('Justin', '123-4567', '1')\n"
     ]
    }
   ],
   "source": [
    "print(acct)"
   ]
  },
  {
   "cell_type": "code",
   "execution_count": 74,
   "metadata": {},
   "outputs": [
    {
     "name": "stdout",
     "output_type": "stream",
     "text": [
      "name Justin\n",
      "number 123-4567\n",
      "balance 1\n"
     ]
    }
   ],
   "source": [
    "# Getter\n",
    "print('name', acct.name)\n",
    "print('number', acct.number)\n",
    "print('balance', acct.balance)"
   ]
  },
  {
   "cell_type": "code",
   "execution_count": 75,
   "metadata": {},
   "outputs": [],
   "source": [
    "# Setter\n",
    "acct.name = 'Sam'"
   ]
  },
  {
   "cell_type": "code",
   "execution_count": 76,
   "metadata": {},
   "outputs": [
    {
     "name": "stdout",
     "output_type": "stream",
     "text": [
      "name Sam\n",
      "number 123-4567\n",
      "balance 1\n"
     ]
    }
   ],
   "source": [
    "# Getter\n",
    "print('name', acct.name)\n",
    "print('number', acct.number)\n",
    "print('balance', acct.balance)"
   ]
  },
  {
   "cell_type": "code",
   "execution_count": null,
   "metadata": {},
   "outputs": [],
   "source": []
  }
 ],
 "metadata": {
  "kernelspec": {
   "display_name": "Python 3",
   "language": "python",
   "name": "python3"
  },
  "language_info": {
   "codemirror_mode": {
    "name": "ipython",
    "version": 3
   },
   "file_extension": ".py",
   "mimetype": "text/x-python",
   "name": "python",
   "nbconvert_exporter": "python",
   "pygments_lexer": "ipython3",
   "version": "3.8.5"
  }
 },
 "nbformat": 4,
 "nbformat_minor": 4
}
