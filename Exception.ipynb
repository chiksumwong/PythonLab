{
 "cells": [
  {
   "cell_type": "markdown",
   "id": "challenging-occupation",
   "metadata": {},
   "source": [
    "# Exception"
   ]
  },
  {
   "cell_type": "markdown",
   "id": "casual-impact",
   "metadata": {},
   "source": [
    "## Raise Exception (引發例外, 自定義, 因為某原因使流程必須中斷)"
   ]
  },
  {
   "cell_type": "code",
   "execution_count": 2,
   "id": "dental-maine",
   "metadata": {},
   "outputs": [],
   "source": [
    "import logging, datetime\n",
    "\n",
    "logger = logging.getLogger(__name__)"
   ]
  },
  {
   "cell_type": "code",
   "execution_count": 14,
   "id": "engaged-fruit",
   "metadata": {},
   "outputs": [],
   "source": [
    "class Account:\n",
    "    def __init__(self, name: str, number: str, balance: float) -> None:\n",
    "        self.name = name\n",
    "        self.number = number\n",
    "        self.balance = balance\n",
    "        \n",
    "    def check_amount(self, amount: float):\n",
    "        if amount <= 0:\n",
    "            raise ValueError('Amount should be positive number: ' + str(amount))\n",
    "    \n",
    "    def deposit(self, amount: float):\n",
    "        # check amont\n",
    "        self.check_amount(amount)\n",
    "        \n",
    "        # deposit\n",
    "        self.balance += amount\n",
    "        \n",
    "    def withdraw(self, amount: float):\n",
    "        # check amount\n",
    "        self.check_amount(amount)\n",
    "        \n",
    "        # check balance\n",
    "        if amount > self.balance:\n",
    "            raise BankingException('Balance is not enought')\n",
    "        \n",
    "        # withdraw\n",
    "        self.balance -= amount\n",
    "        \n",
    "    def __str__(self):\n",
    "        return f\"(Account ('{self.name}', '{self.number}', {self.balance})\"\n",
    "    \n",
    "class BankingException(Exception):\n",
    "    def __init__(self, message: str):\n",
    "        super().__init__(message)"
   ]
  },
  {
   "cell_type": "code",
   "execution_count": 34,
   "id": "contrary-spice",
   "metadata": {},
   "outputs": [
    {
     "name": "stderr",
     "output_type": "stream",
     "text": [
      "Logging: 2021-02-08 16:25:39.568019, 123-4567, Amount should be positive number: -500\n"
     ]
    }
   ],
   "source": [
    "try:\n",
    "    acct = Account('Justin', '123-4567', 1000)\n",
    "    acct.deposit(-500)\n",
    "    print(acct)\n",
    "#     acct.withdraw(3000)\n",
    "#     print(acct)\n",
    "except ValueError as err:\n",
    "    logger.log(logging.ERROR, 'Logging: {time}, {number}, {message}'.format(time=datetime.datetime.now(), number=acct.number, message=err))\n",
    "    \n",
    "    # The above exception was the direct cause of the following exception:\n",
    "#     raise BankingException('logged') from err    \n",
    "\n",
    "    # During handling of the above exception, another exception occurred:\n",
    "#     raise BankingException('logged')"
   ]
  },
  {
   "cell_type": "code",
   "execution_count": 37,
   "id": "featured-brake",
   "metadata": {},
   "outputs": [],
   "source": [
    "import traceback"
   ]
  },
  {
   "cell_type": "code",
   "execution_count": 42,
   "id": "chicken-warner",
   "metadata": {},
   "outputs": [
    {
     "name": "stdout",
     "output_type": "stream",
     "text": [
      "Traceback: Traceback (most recent call last):\n",
      "  File \"<ipython-input-42-aadf517bbbe2>\", line 12, in <module>\n",
      "    c()\n",
      "  File \"<ipython-input-42-aadf517bbbe2>\", line 9, in c\n",
      "    b()\n",
      "  File \"<ipython-input-42-aadf517bbbe2>\", line 6, in b\n",
      "    a()\n",
      "  File \"<ipython-input-42-aadf517bbbe2>\", line 3, in a\n",
      "    return text.upper()\n",
      "AttributeError: 'NoneType' object has no attribute 'upper'\n",
      "\n"
     ]
    },
    {
     "name": "stderr",
     "output_type": "stream",
     "text": [
      "Traceback (most recent call last):\n",
      "  File \"<ipython-input-42-aadf517bbbe2>\", line 12, in <module>\n",
      "    c()\n",
      "  File \"<ipython-input-42-aadf517bbbe2>\", line 9, in c\n",
      "    b()\n",
      "  File \"<ipython-input-42-aadf517bbbe2>\", line 6, in b\n",
      "    a()\n",
      "  File \"<ipython-input-42-aadf517bbbe2>\", line 3, in a\n",
      "    return text.upper()\n",
      "AttributeError: 'NoneType' object has no attribute 'upper'\n"
     ]
    }
   ],
   "source": [
    "def a():\n",
    "    text=None\n",
    "    return text.upper()\n",
    "\n",
    "def b():\n",
    "    a()\n",
    "    \n",
    "def c():\n",
    "    b()\n",
    "    \n",
    "try:\n",
    "    c()\n",
    "except:\n",
    "    traceback.print_exc()\n",
    "    \n",
    "    # Text version\n",
    "    print('Traceback:', traceback.format_exc())\n",
    "    "
   ]
  },
  {
   "cell_type": "code",
   "execution_count": null,
   "id": "terminal-twenty",
   "metadata": {},
   "outputs": [],
   "source": []
  }
 ],
 "metadata": {
  "kernelspec": {
   "display_name": "Python 3",
   "language": "python",
   "name": "python3"
  },
  "language_info": {
   "codemirror_mode": {
    "name": "ipython",
    "version": 3
   },
   "file_extension": ".py",
   "mimetype": "text/x-python",
   "name": "python",
   "nbconvert_exporter": "python",
   "pygments_lexer": "ipython3",
   "version": "3.8.5"
  }
 },
 "nbformat": 4,
 "nbformat_minor": 5
}
