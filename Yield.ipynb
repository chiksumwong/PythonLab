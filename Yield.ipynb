{
 "cells": [
  {
   "cell_type": "markdown",
   "metadata": {},
   "source": [
    "yield = generatior object\n",
    "like return, but won't end the function, keep swith the process between function and main process\n",
    "### __next__()     # get the value of yield\n",
    "### __send__()    # set the value to yield"
   ]
  },
  {
   "cell_type": "code",
   "execution_count": 16,
   "metadata": {},
   "outputs": [
    {
     "name": "stdout",
     "output_type": "stream",
     "text": [
      "執行: 3 次生產與消費\n",
      "生產: 6\n",
      "消費: 6\n",
      "生產: 0\n",
      "消費: 0\n",
      "生產: 5\n",
      "消費: 5\n"
     ]
    }
   ],
   "source": [
    "import sys\n",
    "import random\n",
    "\n",
    "def producer():\n",
    "    while True:\n",
    "        data = random.randint(0, 9)\n",
    "        print('生產:', data)\n",
    "        yield data\n",
    "        \n",
    "def consumer():\n",
    "    while True:\n",
    "        data = yield\n",
    "        print('消費:', data)\n",
    "        \n",
    "def clerk(jobs):\n",
    "    print('執行: {} 次生產與消費'.format(jobs))\n",
    "    p = producer()\n",
    "    c = consumer()\n",
    "    \n",
    "    # run consumer to yield\n",
    "    next(c)\n",
    "    \n",
    "    for i in range(jobs):\n",
    "        # get value form producer\n",
    "        data = next(p)\n",
    "        # set value to consumer\n",
    "        c.send(data)\n",
    "        \n",
    "clerk(3)"
   ]
  },
  {
   "cell_type": "code",
   "execution_count": null,
   "metadata": {},
   "outputs": [],
   "source": []
  }
 ],
 "metadata": {
  "kernelspec": {
   "display_name": "Python 3",
   "language": "python",
   "name": "python3"
  },
  "language_info": {
   "codemirror_mode": {
    "name": "ipython",
    "version": 3
   },
   "file_extension": ".py",
   "mimetype": "text/x-python",
   "name": "python",
   "nbconvert_exporter": "python",
   "pygments_lexer": "ipython3",
   "version": "3.8.5"
  }
 },
 "nbformat": 4,
 "nbformat_minor": 4
}
